{
  "metadata": {
    "kernelspec": {
      "name": "python",
      "display_name": "Python (Pyodide)",
      "language": "python"
    },
    "language_info": {
      "codemirror_mode": {
        "name": "python",
        "version": 3
      },
      "file_extension": ".py",
      "mimetype": "text/x-python",
      "name": "python",
      "nbconvert_exporter": "python",
      "pygments_lexer": "ipython3",
      "version": "3.8"
    }
  },
  "nbformat_minor": 4,
  "nbformat": 4,
  "cells": [
    {
      "cell_type": "markdown",
      "source": "# DataScience tools and Ecosystem",
      "metadata": {}
    },
    {
      "cell_type": "markdown",
      "source": "In this notebook Datascience tools and Ecosystem are summarised.",
      "metadata": {}
    },
    {
      "cell_type": "markdown",
      "source": "**Objectives :**\n* List of popular Data science languages\n* Data science catagories list\n* Various libraries in Datascience",
      "metadata": {}
    },
    {
      "cell_type": "markdown",
      "source": "Some of the popular languages that DataScientists use are:\n1. Phyton\n2. SQL\n3. R",
      "metadata": {}
    },
    {
      "cell_type": "markdown",
      "source": "Some of the commonly used libraries by Data scientists include:\n1. Numpy\n2. Matplotlib\n3. tensorflow",
      "metadata": {}
    },
    {
      "cell_type": "markdown",
      "source": "|Data science Tools|\n|-------------|\n|jupyter|\n|jupyter Lab|\n|R-studio|",
      "metadata": {}
    },
    {
      "cell_type": "markdown",
      "source": "### Below are few examples of evaluating arithmetic expression in phyton.",
      "metadata": {}
    },
    {
      "cell_type": "code",
      "source": "# this is a simple arithmetic expression to multiply then add integer\n(3*4)+5",
      "metadata": {
        "trusted": true
      },
      "outputs": [
        {
          "execution_count": 6,
          "output_type": "execute_result",
          "data": {
            "text/plain": "17"
          },
          "metadata": {}
        }
      ],
      "execution_count": 6
    },
    {
      "cell_type": "code",
      "source": "#this will convert 200 minutes to hours by diving by 60\n200/60\n",
      "metadata": {
        "trusted": true
      },
      "outputs": [
        {
          "execution_count": 7,
          "output_type": "execute_result",
          "data": {
            "text/plain": "3.3333333333333335"
          },
          "metadata": {}
        }
      ],
      "execution_count": 7
    },
    {
      "cell_type": "markdown",
      "source": "## Author\nBisrat",
      "metadata": {}
    },
    {
      "cell_type": "code",
      "source": "",
      "metadata": {
        "trusted": true
      },
      "outputs": [],
      "execution_count": null
    }
  ]
}